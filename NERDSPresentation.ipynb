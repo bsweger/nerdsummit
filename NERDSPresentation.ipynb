{
 "metadata": {
  "celltoolbar": "Slideshow",
  "name": "",
  "signature": "sha256:10e76532aeef374608e436fcccff1bd56586a20d094bf069a82c50a5b0a890f7"
 },
 "nbformat": 3,
 "nbformat_minor": 0,
 "worksheets": [
  {
   "cells": [
    {
     "cell_type": "markdown",
     "metadata": {
      "slideshow": {
       "slide_type": "slide"
      }
     },
     "source": [
      "# Introduction to the IPython Notebook\n",
      "## Not just for data NERDs  \n",
      "## Not just for Python\n",
      "\n",
      "Becky Sweger  \n",
      "Director of Data & Technology  \n",
      "National Priorities Project  \n",
      "bsweger@gmail.com \n"
     ]
    },
    {
     "cell_type": "markdown",
     "metadata": {
      "slideshow": {
       "slide_type": "slide"
      }
     },
     "source": [
      "## What We'll Cover\n",
      "* IPython Notebook: what is it?\n",
      "* Problems. We have them.\n",
      "* Getting up and running\n",
      "* Next steps/beyond basics\n",
      "\n",
      "## What We Can't\n",
      "* Technical Architecture\n",
      "* Specific installation problems\n",
      "* Advanced topics in detail"
     ]
    },
    {
     "cell_type": "markdown",
     "metadata": {
      "slideshow": {
       "slide_type": "slide"
      }
     },
     "source": [
      "# IPython Notebook: What is It?\n"
     ]
    },
    {
     "cell_type": "markdown",
     "metadata": {
      "slideshow": {
       "slide_type": "fragment"
      }
     },
     "source": [
      "The bees knees"
     ]
    },
    {
     "cell_type": "markdown",
     "metadata": {
      "slideshow": {
       "slide_type": "fragment"
      }
     },
     "source": [
      "IPython notebook is part of [IPython](http://en.wikipedia.org/wiki/IPython \"Wikipedia: IPython\"), an interactive computing architecture."
     ]
    },
    {
     "cell_type": "markdown",
     "metadata": {
      "slideshow": {
       "slide_type": "fragment"
      }
     },
     "source": [
      "The [IPython Notebook](http://ipython.org/notebook.html \"IPython Notebook\") is a web-based interactive computational environment where you can combine code execution, text, mathematics, plots and rich media into a single document.\n",
      "\n",
      "Federal Contracts Notebook  \n",
      "[Bokeh Visualization Documentation](http://nbviewer.ipython.org/github/ContinuumIO/bokeh-notebooks/blob/master/index.ipynb 'Bokeh Notebook')  \n",
      "[Notebook-powered blog](http://www.damian.oquanta.info/)  \n",
      "[Teaching with IPython Notebook](http://nbviewer.ipython.org/gist/jiffyclub/5165431 \"Teaching with the IPython Notebook\")  \n",
      "These slides\n",
      "\n"
     ]
    },
    {
     "cell_type": "markdown",
     "metadata": {
      "slideshow": {
       "slide_type": "slide"
      }
     },
     "source": [
      "# How Does it Help?\n",
      "\n",
      "![Science Cat](media/science-cat.jpg \"Science Cat\") "
     ]
    },
    {
     "cell_type": "markdown",
     "metadata": {
      "slideshow": {
       "slide_type": "subslide"
      }
     },
     "source": [
      "# Show Your Work (aka _Reproducible Research_)\n",
      "\n",
      "[The Ferguson Area is Even More Segregated Than You Probably Guessed](http://www.buzzfeed.com/jsvine/the-ferguson-area-is-even-more-segregated-than-you-thought#2n9wwff \"The Ferguson Area is Even More Segregated Than You Probably Guessed\"), Buzzfeed, 8/20/14\n",
      "\n",
      "![Ferguson Segregation, Buzzfeed](media/ferguson.png \"The Ferguson Area is Even More Segregated Than You Probably Guessed\")\n",
      "\n",
      "[IPython Notebook](https://github.com/BuzzFeedNews/2014-08-st-louis-county-segregation/blob/master/notebooks/segregation-analysis.ipynb)\n",
      "\n",
      "[NBViewer](http://nbviewer.ipython.org/github/BuzzFeedNews/2014-08-st-louis-county-segregation/blob/master/notebooks/segregation-analysis.ipynb)"
     ]
    },
    {
     "cell_type": "markdown",
     "metadata": {
      "slideshow": {
       "slide_type": "subslide"
      }
     },
     "source": [
      "# Show Your Work (aka _Reproducible Research_)\n",
      "\n",
      "[Warming Ocean Threatens Sea Life](http://www.scientificamerican.com/article/warming-ocean-threatens-sea-life/ \"Warming Ocean Threatens Sea Life\"), _Scientific American_\n",
      "\n",
      "![Warming Ocean Threatens Sea Life](media/scientific-american.png)\n",
      "\n",
      "[IPython notebook](https://github.com/robertodealmeida/notebooks/blob/master/scientific_american/Scientific%20American%20graph.ipynb)\n",
      "\n",
      "[NBViewer](http://nbviewer.ipython.org/github/robertodealmeida/notebooks/blob/master/scientific_american/Scientific%20American%20graph.ipynb)\n",
      "\n",
      "\n"
     ]
    },
    {
     "cell_type": "markdown",
     "metadata": {
      "slideshow": {
       "slide_type": "subslide"
      }
     },
     "source": [
      "#IPython Notebook = Sharing = Caring  \n",
      "\n",
      "\n",
      "![Big Lebowski](media/lebowski-wighnayba.gif \"Big Lebowski\")"
     ]
    },
    {
     "cell_type": "markdown",
     "metadata": {
      "slideshow": {
       "slide_type": "slide"
      }
     },
     "source": [
      "# Getting Started - Anaconda Distribution\n",
      "\n",
      "Linux, Max, Windows downloads: https://store.continuum.io/cshop/anaconda/"
     ]
    },
    {
     "cell_type": "markdown",
     "metadata": {
      "slideshow": {
       "slide_type": "fragment"
      }
     },
     "source": [
      "1. Install\n",
      "2. Open Anaconda Launcher\n",
      "3. Install IPython Notebook\n",
      "4. Launch IPython Notebook. This should start up the notebook server and open the notebook dashboard in your browser.\n",
      "\n",
      "![Anaconda Launcher](media/anaconda-launcher.png \"Anaconda Launcher\")\n"
     ]
    },
    {
     "cell_type": "markdown",
     "metadata": {
      "slideshow": {
       "slide_type": "slide"
      }
     },
     "source": [
      "# Getting Started - Existing Python Environment\n",
      "\n",
      "IPython supports Python 2.7 or 3.3 and newer."
     ]
    },
    {
     "cell_type": "markdown",
     "metadata": {
      "slideshow": {
       "slide_type": "fragment"
      }
     },
     "source": [
      "1. Install IPython and it's main optional dependencies (many of these are needed to run the Notebook):\n",
      "        pip install ipython[all]\n",
      "2. If you get an error installing ipython[notebook], install dependencies separately:\n",
      "        pip install jinja2\n",
      "        pip install sphinx\n",
      "        pip install pyzmq\n",
      "        pip install pygments\n",
      "        pip install tornado\n",
      "        pip install ipython\n",
      "3. [Start](http://ipython.org/ipython-doc/2/notebook/notebook.html#starting-the-notebook-server \"IPython: Starting the Notebook Server\") the notebook server. This should start up the server and open the notebook dashboard in your browser.\n",
      "        ipython notebook\n",
      "4. Alternately, to start a notebook server from a VM, make sure you're forwarding port 8888 start up the server:\n",
      "        ipython notebook --ip=0.0.0.0\n",
      "    On the host machine's browser: http://localhost:8888\n"
     ]
    },
    {
     "cell_type": "markdown",
     "metadata": {
      "slideshow": {
       "slide_type": "slide"
      }
     },
     "source": [
      "# What's Happening?\n",
      "\n",
      "* Dashboard shows notebooks in the current directory\n",
      "* Each open notebook is connected to a single IPython kernal\n",
      "* Notebooks are a series of cells (code cells, Markdown, etc.)\n",
      "\n",
      "![\"IPython Dashboard\"](media/dashboard-notebooks-list.png \"IPython Dashboard\")\n",
      "[More information](http://ipython.org/ipython-doc/stable/notebook/notebook.html#introduction \"IPython Notebook Introduction\")\n"
     ]
    },
    {
     "cell_type": "markdown",
     "metadata": {},
     "source": [
      "#Behind the Scenes\n",
      "\n",
      "* Notebooks are JSON files\n",
      "* IPython goodness works"
     ]
    },
    {
     "cell_type": "markdown",
     "metadata": {},
     "source": [
      "#Resources and Digging Deeper\n",
      "\n",
      "[Running Code in the IPython Notebook](http://nbviewer.ipython.org/github/ipython/ipython/blob/1.x/examples/notebooks/Part%201%20-%20Running%20Code.ipynb \"Running Code in the IPython Notebok\")  \n",
      "[Configuring IPython ](http://ipython.org/ipython-doc/dev/config/intro.html \"Introduction to IPython configuration\")  \n",
      "[Styling IPython Notebooks](http://nbviewer.ipython.org/github/ketch/teaching-numerics-with-notebooks/blob/master/Styling_notebooks.ipynb \"Adding style to the notebook\")  \n",
      "Extensions (wait until 3.0)  \n",
      "[Interactive widgets  ](http://nbviewer.ipython.org/github/ipython/ipython/blob/2.x/examples/Interactive%20Widgets/Index.ipynb \"Interactive Widgets\")  \n",
      "[NBViewer browser extensions](http://jiffyclub.github.io/open-in-nbviewer/ \"Open in nbviewer\")  \n",
      "[Converting IPython notebook to a Reveal.js-powered slideshow](http://www.damian.oquanta.info/posts/make-your-slides-with-ipython.html \"Make your slides with IPython\")  \n",
      "[R Markdown](http://rmarkdown.rstudio.com/ \"R Markdown\")"
     ]
    },
    {
     "cell_type": "markdown",
     "metadata": {},
     "source": [
      "#What's Next\n",
      "\n",
      "[Roadmap](http://localhost:8888/notebooks/NERDSPresentation.ipynb# \"IPython Roadmap\") slates IPython 3.0 for fall 2014:\n",
      "\n",
      "* Continue developing interactive widgets  \n",
      "* Further development of non-Python kernels  \n",
      "* Multi-user notebooks"
     ]
    }
   ],
   "metadata": {}
  }
 ]
}