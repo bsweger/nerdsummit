{
 "metadata": {
  "celltoolbar": "Slideshow",
  "name": "",
  "signature": "sha256:db2373cd8a8e7b6d3615df39da08d7abeab1a63973eb44df50e4097b81ecef3b"
 },
 "nbformat": 3,
 "nbformat_minor": 0,
 "worksheets": [
  {
   "cells": [
    {
     "cell_type": "markdown",
     "metadata": {
      "slideshow": {
       "slide_type": "slide"
      }
     },
     "source": [
      "# Introduction to the IPython Notebook\n",
      "## Not just for data NERDs  \n",
      "## Not just for Python\n",
      "\n",
      "Becky Sweger  \n",
      "Director of Data & Technology  \n",
      "National Priorities Project  \n",
      "bsweger@gmail.com \n"
     ]
    },
    {
     "cell_type": "markdown",
     "metadata": {
      "slideshow": {
       "slide_type": "slide"
      }
     },
     "source": [
      "## What We'll Cover\n",
      "* IPython Notebook: what is it?\n",
      "* Problems. We have them.\n",
      "* Getting up and running\n",
      "* Next steps/beyond basics\n",
      "\n",
      "## What We Can't\n",
      "* Technical Architecture\n",
      "* Specific installation problems\n",
      "* Advanced topics in detail"
     ]
    },
    {
     "cell_type": "markdown",
     "metadata": {
      "slideshow": {
       "slide_type": "slide"
      }
     },
     "source": [
      "# IPython Notebook: What is It?\n"
     ]
    },
    {
     "cell_type": "markdown",
     "metadata": {
      "slideshow": {
       "slide_type": "fragment"
      }
     },
     "source": [
      "The bees knees"
     ]
    },
    {
     "cell_type": "markdown",
     "metadata": {
      "slideshow": {
       "slide_type": "fragment"
      }
     },
     "source": [
      "IPython notebook is part of [IPython](http://en.wikipedia.org/wiki/IPython \"Wikipedia: IPython\"), an interactive computing architecture."
     ]
    },
    {
     "cell_type": "markdown",
     "metadata": {
      "slideshow": {
       "slide_type": "fragment"
      }
     },
     "source": [
      "The [IPython Notebook](http://ipython.org/notebook.html \"IPython Notebook\") is a web-based interactive computational environment where you can combine code execution, text, mathematics, plots and rich media into a single document.\n",
      "\n",
      "Federal Contracts Notebook  \n",
      "[Bokeh Visualization Documentation](http://nbviewer.ipython.org/github/ContinuumIO/bokeh-notebooks/blob/master/index.ipynb 'Bokeh Notebook')  \n",
      "[Mining the Social Web by Matthew A Russell](http://nbviewer.ipython.org/github/ptwobrussell/Mining-the-Social-Web-2nd-Edition/tree/master/ipynb/ 'Mining the Social Web')  \n",
      "[Notebook-powered blog](http://www.damian.oquanta.info/)  \n",
      "[Teaching with IPython Notebook](http://nbviewer.ipython.org/gist/jiffyclub/5165431 \"Teaching with the IPython Notebook\")  \n",
      "These slides\n",
      "\n"
     ]
    },
    {
     "cell_type": "markdown",
     "metadata": {
      "slideshow": {
       "slide_type": "slide"
      }
     },
     "source": [
      "# What Problems Does it Solve?"
     ]
    },
    {
     "cell_type": "markdown",
     "metadata": {
      "slideshow": {
       "slide_type": "subslide"
      }
     },
     "source": [
      "Not working openly\n",
      "\n",
      "![Excel formula](media/long-excel-formula.png \"Excel formula\")\n",
      "source: http://datascopic.net/text-troubleshooting/\n",
      "\n",
      "Reinhart and Rogoff's famous [Excel error](http://www.washingtonpost.com/blogs/wonkblog/wp/2013/04/16/is-the-best-evidence-for-austerity-based-on-an-excel-spreadsheet-error/ \"Is the evidence for austerity based on an Excel spreadsheet error?\")"
     ]
    },
    {
     "cell_type": "markdown",
     "metadata": {
      "slideshow": {
       "slide_type": "subslide"
      }
     },
     "source": [
      "Communicating in different languages\n",
      "\n",
      "![Big Lebowski](media/lebowski-wighnayba.gif \"Big Lebowski\")"
     ]
    },
    {
     "cell_type": "markdown",
     "metadata": {
      "slideshow": {
       "slide_type": "slide"
      }
     },
     "source": [
      "# IPython Notebooks:\n",
      "\n",
      "* Put code and results in the same place\n",
      "* Are easy to source control\n",
      "* Are easy to share\n",
      "* Create reproducible research"
     ]
    },
    {
     "cell_type": "markdown",
     "metadata": {
      "slideshow": {
       "slide_type": "subslide"
      }
     },
     "source": [
      "# Show the Data\n",
      "\n",
      "[Warming Ocean Threatens Sea Life](http://www.scientificamerican.com/article/warming-ocean-threatens-sea-life/ \"Warming Ocean Threatens Sea Life\"), _Scientific American_\n",
      "\n",
      "![Warming Ocean Threatens Sea Life](media/scientific-american.png)\n",
      "\n",
      "[IPython notebook](https://github.com/robertodealmeida/notebooks/blob/master/scientific_american/Scientific%20American%20graph.ipynb)\n",
      "\n",
      "[NBViewer](http://nbviewer.ipython.org/github/robertodealmeida/notebooks/blob/master/scientific_american/Scientific%20American%20graph.ipynb)\n",
      "\n",
      "\n"
     ]
    },
    {
     "cell_type": "markdown",
     "metadata": {
      "slideshow": {
       "slide_type": "subslide"
      }
     },
     "source": [
      "[The Ferguson Area is Even More Segregated Than You Probably Guessed](http://www.buzzfeed.com/jsvine/the-ferguson-area-is-even-more-segregated-than-you-thought#2n9wwff \"The Ferguson Area is Even More Segregated Than You Probably Guessed\"), Buzzfeed, 8/20/14\n",
      "\n",
      "![Ferguson Segregation, Buzzfeed](media/ferguson.png \"The Ferguson Area is Even More Segregated Than You Probably Guessed\")\n",
      "\n",
      "[IPython Notebook](https://github.com/BuzzFeedNews/2014-08-st-louis-county-segregation/blob/master/notebooks/segregation-analysis.ipynb)\n",
      "\n",
      "[NBViewer](http://nbviewer.ipython.org/github/BuzzFeedNews/2014-08-st-louis-county-segregation/blob/master/notebooks/segregation-analysis.ipynb)"
     ]
    },
    {
     "cell_type": "markdown",
     "metadata": {
      "slideshow": {
       "slide_type": "slide"
      }
     },
     "source": [
      "# Getting Started - Anaconda Distribution\n",
      "\n",
      "Linux, Max, Windows downloads: https://store.continuum.io/cshop/anaconda/"
     ]
    },
    {
     "cell_type": "markdown",
     "metadata": {
      "slideshow": {
       "slide_type": "fragment"
      }
     },
     "source": [
      "1. Install\n",
      "2. Open Anaconda Launcher\n",
      "3. Install IPython Notebook\n",
      "4. Launch IPython Notebook. This should start up the notebook server and open the notebook dashboard in your browser.\n",
      "\n",
      "![Anaconda Launcher](media/anaconda-launcher.png \"Anaconda Launcher\")\n"
     ]
    },
    {
     "cell_type": "markdown",
     "metadata": {
      "slideshow": {
       "slide_type": "slide"
      }
     },
     "source": [
      "# Getting Started - Existing Python Environment\n",
      "\n",
      "IPython supports Python 2.7 or 3.3 and newer."
     ]
    },
    {
     "cell_type": "markdown",
     "metadata": {
      "slideshow": {
       "slide_type": "fragment"
      }
     },
     "source": [
      "1. Install IPython and it's main optional dependencies (many of these are needed to run the Notebook):\n",
      "        pip install ipython[all]\n",
      "2. If you get an error installing ipython[notebook], install dependencies separately:\n",
      "        pip install jinja2\n",
      "        pip install sphinx\n",
      "        pip install pyzmq\n",
      "        pip install pygments\n",
      "        pip install tornado\n",
      "        pip install ipython\n",
      "3. [Start](http://ipython.org/ipython-doc/2/notebook/notebook.html#starting-the-notebook-server \"IPython: Starting the Notebook Server\") the notebook server. This should start up the server and open the notebook dashboard in your browser.\n",
      "        ipython notebook\n",
      "4. Alternately, to start a notebook server from a VM, make sure you're forwarding port 8888 start up the server:\n",
      "        ipython notebook --ip=0.0.0.0\n",
      "    On the host machine's browser: http://localhost:8888\n"
     ]
    },
    {
     "cell_type": "markdown",
     "metadata": {
      "slideshow": {
       "slide_type": "slide"
      }
     },
     "source": [
      "# What's Happening?\n",
      "\n",
      "* Dashboard shows notebooks in the current directory\n",
      "* Each open notebook is connected to a single IPython kernal\n",
      "* Notebooks are a series of cells (code cells, Markdown, etc.)\n",
      "* Notebooks are JSON files\n",
      "\n",
      "![\"IPython Dashboard\"](media/dashboard-notebooks-list.png \"IPython Dashboard\")\n",
      "[More information](http://ipython.org/ipython-doc/stable/notebook/notebook.html#introduction \"IPython Notebook Introduction\")\n"
     ]
    }
   ],
   "metadata": {}
  }
 ]
}