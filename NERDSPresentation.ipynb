{
 "metadata": {
  "celltoolbar": "Slideshow",
  "name": "",
  "signature": "sha256:6bc83aa724c76fadd1f2961350dacb55158ffc4d6e38fbfbcef73f84087792fa"
 },
 "nbformat": 3,
 "nbformat_minor": 0,
 "worksheets": [
  {
   "cells": [
    {
     "cell_type": "code",
     "collapsed": false,
     "input": [
      "#apply styles to notebook (rather than doing it locally \n",
      "# via the profile custom.css file)\n",
      "from IPython.core.display import HTML\n",
      "css_file = 'media/style.css'\n",
      "HTML(open(css_file, \"r\").read())"
     ],
     "language": "python",
     "metadata": {
      "slideshow": {
       "slide_type": "skip"
      }
     },
     "outputs": [
      {
       "html": [
        "/* Adapted from https://github.com/ketch/teaching-numerics-with-notebooks */\n",
        "<style>\n",
        "\n",
        "#notebook_panel { /* main background */\n",
        "    background: #888;\n",
        "    color: #f6f6f6;\n",
        "}\n",
        "\n",
        "div.cell { \n",
        "    width: 100%;\n",
        "}\n",
        "\n",
        "div #notebook { /* centre the content */\n",
        "    background: #fff; /* white background for content */\n",
        "    width: 80%;\n",
        "    margin: auto;\n",
        "    padding-left: 1em;\n",
        "}\n",
        "\n",
        "div #notebook-container {\n",
        "    width: 80%;\n",
        "}\n",
        "\n",
        "#notebook li { /* More space between bullet points */\n",
        "margin-top:0.6em;\n",
        "}\n",
        "\n",
        "/* draw border around running cells */\n",
        "div.cell.border-box-sizing.code_cell.running {\n",
        "    border: 3px solid #111;\n",
        "}\n",
        "\n",
        "/* Put a solid color box around each cell and its output, visually linking them together */\n",
        "div.cell.code_cell {\n",
        "    background-color: rgba(171,165,131,0.3); \n",
        "    border-radius: 10px; /* rounded borders */\n",
        "    padding: 1em;\n",
        "    margin-top: 1em;\n",
        "}\n",
        "\n",
        "div.text_cell_render{\n",
        "    font-family: 'Cambria,Georgia,\"Times New Roman\"';\n",
        "    line-height: 135%;\n",
        "    font-size: 130%;\n",
        "    width:700px;\n",
        "    margin-left:auto;\n",
        "    margin-right:auto;\n",
        "}\n",
        "\n",
        "/* Formatting for header cells */\n",
        ".text_cell_render h1,h2,h3,h4,h5,h6 {\n",
        "    font-family: 'freight-sans-pro', 'Myriad Pro', 'Lucida Grande', 'Lucida Sans Unicode', 'Lucida Sans', Verdana, Helvetica, Arial;\n",
        "    font-weight: 400;\n",
        "    /*margin-bottom: 0.1em;*/\n",
        "    margin-top: 0.2em;\n",
        "    display: block;\n",
        "}\t\n",
        "\n",
        ".text_cell_render h1 {\n",
        "    font-size: 32pt;\n",
        "    line-height: 100%;\n",
        "    color: rgb(12,85,97);\n",
        "}\n",
        "\n",
        ".text_cell_render h2 {\n",
        "    font-weight: 700;\n",
        "    font-size: 24pt;\n",
        "    line-height: 100%;\n",
        "    color: #364447;\n",
        "    display: block;\n",
        "}\t\n",
        "\n",
        ".text_cell_render h3 {\n",
        "    font-style: italic;\n",
        "    color: #364447;\n",
        "}\n",
        "\n",
        "</style>"
       ],
       "metadata": {},
       "output_type": "pyout",
       "prompt_number": 1,
       "text": [
        "<IPython.core.display.HTML at 0x41d3048>"
       ]
      }
     ],
     "prompt_number": 1
    },
    {
     "cell_type": "markdown",
     "metadata": {
      "slideshow": {
       "slide_type": "slide"
      }
     },
     "source": [
      "#Intro to IPython Notebook\n",
      "\n",
      "<div style=\"margin-top: 125px;\">\n",
      "![](media/npp.png)\n",
      "</div>"
     ]
    },
    {
     "cell_type": "markdown",
     "metadata": {
      "slideshow": {
       "slide_type": "slide"
      }
     },
     "source": [
      "## What We'll Cover\n",
      "* IPython Notebook: what is it?\n",
      "* Problems. We have them.\n",
      "* Getting up and running\n",
      "* Next steps/beyond basics\n",
      "\n",
      "## What We Can't\n",
      "* Technical Architecture\n",
      "* Specific installation problems\n",
      "* Advanced topics in detail"
     ]
    },
    {
     "cell_type": "markdown",
     "metadata": {
      "slideshow": {
       "slide_type": "slide"
      }
     },
     "source": [
      "#First Things First"
     ]
    },
    {
     "cell_type": "markdown",
     "metadata": {
      "slideshow": {
       "slide_type": "fragment"
      }
     },
     "source": [
      "##iPython\n",
      "\n",
      "![](media/no.png)"
     ]
    },
    {
     "cell_type": "markdown",
     "metadata": {
      "slideshow": {
       "slide_type": "slide"
      }
     },
     "source": [
      "# IPython Notebook: What is It?\n",
      "\n",
      "IPython notebook is part of [IPython](http://en.wikipedia.org/wiki/IPython \"Wikipedia: IPython\"), an interactive computing architecture.\n",
      "\n",
      "The [IPython Notebook](http://ipython.org/notebook.html \"IPython Notebook\") is a web-based interactive computational environment where you can combine code execution, text, mathematics, plots and rich media into a single document.\n"
     ]
    },
    {
     "cell_type": "code",
     "collapsed": false,
     "input": [
      "#some Python code\n",
      "range(0,20)"
     ],
     "language": "python",
     "metadata": {
      "slideshow": {
       "slide_type": "slide"
      }
     },
     "outputs": [
      {
       "metadata": {},
       "output_type": "pyout",
       "prompt_number": 2,
       "text": [
        "[0, 1, 2, 3, 4, 5, 6, 7, 8, 9, 10, 11, 12, 13, 14, 15, 16, 17, 18, 19]"
       ]
      }
     ],
     "prompt_number": 2
    },
    {
     "cell_type": "markdown",
     "metadata": {
      "slideshow": {
       "slide_type": "slide"
      }
     },
     "source": [
      "Markdown and LaTeX support\n",
      "\n",
      "![](media/latex.png)"
     ]
    },
    {
     "cell_type": "code",
     "collapsed": false,
     "input": [
      "from IPython.display import YouTubeVideo\n",
      "# a talk about IPython at Sage Days at U. Washington, Seattle.\n",
      "# Video credit: William Stein.\n",
      "YouTubeVideo('QTXyXuqfBLA')"
     ],
     "language": "python",
     "metadata": {
      "slideshow": {
       "slide_type": "slide"
      }
     },
     "outputs": [
      {
       "html": [
        "\n",
        "        <iframe\n",
        "            width=\"400\"\n",
        "            height=300\"\n",
        "            src=\"https://www.youtube.com/embed/QTXyXuqfBLA\"\n",
        "            frameborder=\"0\"\n",
        "            allowfullscreen\n",
        "        ></iframe>\n",
        "        "
       ],
       "metadata": {},
       "output_type": "pyout",
       "prompt_number": 3,
       "text": [
        "<IPython.lib.display.YouTubeVideo at 0x41a3f28>"
       ]
      }
     ],
     "prompt_number": 3
    },
    {
     "cell_type": "code",
     "collapsed": false,
     "input": [
      "import matplotlib.pyplot as plt\n",
      "import numpy as np\n",
      "%matplotlib inline\n",
      "x = np.linspace(0, 3*np.pi, 500)\n",
      "plt.plot(x, np.sin(x**2))\n",
      "plt.title('chirp chirp');"
     ],
     "language": "python",
     "metadata": {
      "slideshow": {
       "slide_type": "slide"
      }
     },
     "outputs": [
      {
       "metadata": {},
       "output_type": "display_data",
       "png": "[encoded data removed]",
       "text": [
        "<matplotlib.figure.Figure at 0xa413a58>"
       ]
      }
     ],
     "prompt_number": 4
    },
    {
     "cell_type": "markdown",
     "metadata": {
      "slideshow": {
       "slide_type": "slide"
      }
     },
     "source": [
      "#Examples\n",
      "\n",
      "Federal Contracts Notebook  \n",
      "[Bokeh Visualization Documentation](http://nbviewer.ipython.org/github/ContinuumIO/bokeh-notebooks/blob/master/index.ipynb 'Bokeh Notebook')  \n",
      "[Notebook-powered blog](http://www.damian.oquanta.info/)  \n",
      "[Teaching with IPython Notebook](http://nbviewer.ipython.org/gist/jiffyclub/5165431 \"Teaching with the IPython Notebook\")  \n",
      "These slides\n",
      "\n"
     ]
    },
    {
     "cell_type": "markdown",
     "metadata": {
      "slideshow": {
       "slide_type": "slide"
      }
     },
     "source": [
      "# How Does it Help?\n",
      "\n",
      "![](media/science-cat.jpg \"Science Cat\") "
     ]
    },
    {
     "cell_type": "markdown",
     "metadata": {
      "slideshow": {
       "slide_type": "slide"
      }
     },
     "source": [
      "# Show Your Work\n",
      "\n",
      "[The Ferguson Area is Even More Segregated Than You Probably Guessed](http://www.buzzfeed.com/jsvine/the-ferguson-area-is-even-more-segregated-than-you-thought#2n9wwff \"The Ferguson Area is Even More Segregated Than You Probably Guessed\"), Buzzfeed, 8/20/14\n",
      "\n",
      "![](media/ferguson.png \"The Ferguson Area is Even More Segregated Than You Probably Guessed\")\n",
      "\n",
      "[IPython Notebook](https://github.com/BuzzFeedNews/2014-08-st-louis-county-segregation/blob/master/notebooks/segregation-analysis.ipynb)\n",
      "\n",
      "[NBViewer](http://nbviewer.ipython.org/github/BuzzFeedNews/2014-08-st-louis-county-segregation/blob/master/notebooks/segregation-analysis.ipynb)"
     ]
    },
    {
     "cell_type": "markdown",
     "metadata": {
      "slideshow": {
       "slide_type": "slide"
      }
     },
     "source": [
      "# Show Your Work\n",
      "\n",
      "[Warming Ocean Threatens Sea Life](http://www.scientificamerican.com/article/warming-ocean-threatens-sea-life/ \"Warming Ocean Threatens Sea Life\"), _Scientific American_\n",
      "\n",
      "![](media/scientific-american.png)\n",
      "\n",
      "[IPython notebook](https://github.com/robertodealmeida/notebooks/blob/master/scientific_american/Scientific%20American%20graph.ipynb)\n",
      "\n",
      "[NBViewer](http://nbviewer.ipython.org/github/robertodealmeida/notebooks/blob/master/scientific_american/Scientific%20American%20graph.ipynb)\n",
      "\n",
      "\n"
     ]
    },
    {
     "cell_type": "markdown",
     "metadata": {
      "slideshow": {
       "slide_type": "slide"
      }
     },
     "source": [
      "#Sharing is Caring  \n",
      "\n",
      "\n",
      "![](media/lebowski-wighnayba.gif \"Big Lebowski\")"
     ]
    },
    {
     "cell_type": "markdown",
     "metadata": {
      "slideshow": {
       "slide_type": "slide"
      }
     },
     "source": [
      "# Getting Started\n",
      "## Anaconda Distribution\n",
      "\n",
      "Linux, Max, Windows downloads: https://store.continuum.io/cshop/anaconda/"
     ]
    },
    {
     "cell_type": "markdown",
     "metadata": {
      "slideshow": {
       "slide_type": "fragment"
      }
     },
     "source": [
      "1. Install\n",
      "2. Open Anaconda Launcher\n",
      "3. Install IPython Notebook\n",
      "4. Launch IPython Notebook. This should start up the notebook server and open the notebook dashboard in your browser.\n",
      "\n",
      "![](media/anaconda-launcher.png \"Anaconda Launcher\")\n"
     ]
    },
    {
     "cell_type": "markdown",
     "metadata": {
      "slideshow": {
       "slide_type": "slide"
      }
     },
     "source": [
      "# Getting Started\n",
      "## Existing Python Environment\n",
      "\n",
      "IPython supports Python 2.7 or 3.3 and newer."
     ]
    },
    {
     "cell_type": "markdown",
     "metadata": {
      "slideshow": {
       "slide_type": "fragment"
      }
     },
     "source": [
      "1. Install IPython and it's main optional dependencies (many of these are needed to run the Notebook):\n",
      "        pip install ipython[all]\n",
      "2. If you get an error installing ipython[notebook], install dependencies separately:\n",
      "    * pip install jinja2\n",
      "    * pip install sphinx\n",
      "    * pip install pyzmq\n",
      "    * pip install pygments\n",
      "    * pip install tornado\n",
      "    * pip install ipython\n",
      "3. [Start](http://ipython.org/ipython-doc/2/notebook/notebook.html#starting-the-notebook-server \"IPython: Starting the Notebook Server\") the notebook server. This should start up the server and open the notebook dashboard in your browser.\n",
      "    * ipython notebook\n",
      "4. Alternately, to start a notebook server from a VM, make sure you're forwarding port 8888 start up the server:\n",
      "    * ipython notebook --ip=0.0.0.0\n",
      "    * on the host machine's browser: http://localhost:8888\n"
     ]
    },
    {
     "cell_type": "markdown",
     "metadata": {
      "slideshow": {
       "slide_type": "slide"
      }
     },
     "source": [
      "# What's Happening?\n",
      "\n",
      "* Dashboard shows notebooks in the current directory\n",
      "* Each open notebook is connected to a single Python kernal\n",
      "* Notebooks are a series of cells (code cells, Markdown, etc.)\n",
      "\n",
      "![](media/dashboard-notebooks-list.png \"IPython Dashboard\")\n",
      "[More information](http://ipython.org/ipython-doc/stable/notebook/notebook.html#introduction \"IPython Notebook Introduction\")\n"
     ]
    },
    {
     "cell_type": "markdown",
     "metadata": {
      "slideshow": {
       "slide_type": "slide"
      }
     },
     "source": [
      "#Behind the Scenes\n",
      "\n",
      "* Notebooks are JSON files\n",
      "* IPython goodness works\n",
      "    * [system aliases](http://ipython.org/ipython-doc/dev/interactive/shell.html \"IPython as a system shell\")\n",
      "    * tab completion\n",
      "    * exploring your objects\n",
      "    * [magics](http://nbviewer.ipython.org/github/ipython/ipython/blob/1.x/examples/notebooks/Cell%20Magics.ipynb \"The cell magics in IPython\")\n",
      "* Good [overview of interactive IPython goodness](http://ipython.org/ipython-doc/2/interactive/tutorial.html \"Using IPython for interactive work\")"
     ]
    },
    {
     "cell_type": "markdown",
     "metadata": {
      "slideshow": {
       "slide_type": "slide"
      }
     },
     "source": [
      "#Resources and Digging Deeper\n",
      "\n",
      "[Running Code in the IPython Notebook](http://nbviewer.ipython.org/github/ipython/ipython/blob/1.x/examples/notebooks/Part%201%20-%20Running%20Code.ipynb \"Running Code in the IPython Notebok\")  \n",
      "[Configuring IPython ](http://ipython.org/ipython-doc/dev/config/intro.html \"Introduction to IPython configuration\")  \n",
      "[Styling IPython Notebooks](http://nbviewer.ipython.org/github/ketch/teaching-numerics-with-notebooks/blob/master/Styling_notebooks.ipynb \"Adding style to the notebook\")  \n",
      "Extensions (wait until 3.0)  \n",
      "[Interactive widgets  ](http://nbviewer.ipython.org/github/ipython/ipython/blob/2.x/examples/Interactive%20Widgets/Index.ipynb \"Interactive Widgets\")  \n",
      "[NBViewer browser extensions](http://jiffyclub.github.io/open-in-nbviewer/ \"Open in nbviewer\")  \n",
      "[Converting IPython notebook to a Reveal.js-powered slideshow](http://www.damian.oquanta.info/posts/make-your-slides-with-ipython.html \"Make your slides with IPython\")  \n",
      "[R Markdown](http://rmarkdown.rstudio.com/ \"R Markdown\")"
     ]
    },
    {
     "cell_type": "markdown",
     "metadata": {
      "slideshow": {
       "slide_type": "slide"
      }
     },
     "source": [
      "#What's Next\n",
      "\n",
      "[Roadmap](http://localhost:8888/notebooks/NERDSPresentation.ipynb# \"IPython Roadmap\") slates IPython 3.0 for fall 2014:\n",
      "\n",
      "* Continue developing interactive widgets  \n",
      "* Further development of non-Python kernels  \n",
      "* Multi-user notebooks\n",
      "* [Jupyter](https://speakerdeck.com/fperez/project-jupyter \"Project Jupyter\")"
     ]
    },
    {
     "cell_type": "markdown",
     "metadata": {
      "slideshow": {
       "slide_type": "slide"
      }
     },
     "source": [
      "#Questions?\n",
      "\n",
      "Becky Sweger  \n",
      "bsweger@gmail.com  \n",
      "@bendystraw\n"
     ]
    }
   ],
   "metadata": {}
  }
 ]
}