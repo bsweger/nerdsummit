{
 "metadata": {
  "celltoolbar": "Slideshow",
  "name": "",
  "signature": "sha256:a2ed0575ed6f660e274dafa77ee9891b7f4dacd41aee1f48dd75cafd2b1816c5"
 },
 "nbformat": 3,
 "nbformat_minor": 0,
 "worksheets": [
  {
   "cells": [
    {
     "cell_type": "markdown",
     "metadata": {
      "slideshow": {
       "slide_type": "slide"
      }
     },
     "source": [
      "# IPython Notebooks\n",
      "## Not just for data NERDs  \n",
      "## Not just for Python\n",
      "\n",
      "Becky Sweger  \n",
      "Director of Data & Technology  \n",
      "National Priorities Project  \n",
      "bsweger@gmail.com \n"
     ]
    },
    {
     "cell_type": "markdown",
     "metadata": {
      "slideshow": {
       "slide_type": "slide"
      }
     },
     "source": [
      "## What We'll Cover\n",
      "* Why IPython Notebook?\n",
      "* Quick tour\n",
      "* Getting up and running\n",
      "* Next steps/beyond basics\n",
      "\n",
      "## What We Can't\n",
      "* Technical Architecture\n",
      "* Specific installation problems\n",
      "* Advanced topics in detail"
     ]
    },
    {
     "cell_type": "markdown",
     "metadata": {
      "slideshow": {
       "slide_type": "slide"
      }
     },
     "source": [
      "# IPython Notebook: What is It?\n",
      "\n",
      "The [IPython Notebook](http://ipython.org/notebook.html \"IPython Notebook\") is a web-based interactive computational environment where you can combine code execution, text, mathematics, plots and rich media into a single document.\n",
      "\n",
      "![IPython Notebook](media/ipython-notebook.png \"IPython Notebook\")\n"
     ]
    },
    {
     "cell_type": "markdown",
     "metadata": {
      "slideshow": {
       "slide_type": "slide"
      }
     },
     "source": [
      "# What Problems Does it Solve?\n",
      "\n",
      "* Project pieces living in difference places\n",
      "* People talking different languages\n",
      "\n"
     ]
    },
    {
     "cell_type": "markdown",
     "metadata": {
      "slideshow": {
       "slide_type": "slide"
      }
     },
     "source": [
      "# What's Happening?\n",
      "\n",
      "* Dashboard shows notebooks in the current directory\n",
      "* Each open notebook is connected to a single IPython kernal\n",
      "* Notebooks are a series of cells (code cells, Markdown, etc.)\n",
      "* Notebooks are JSON files\n",
      "\n",
      "![\"IPython Dashboard\"](media/dashboard-notebooks-list.png \"IPython Dashboard\")\n",
      "[More information](http://ipython.org/ipython-doc/stable/notebook/notebook.html#introduction \"IPython Notebook Introduction\")\n"
     ]
    },
    {
     "cell_type": "markdown",
     "metadata": {
      "slideshow": {
       "slide_type": "slide"
      }
     },
     "source": [
      "# Spreadsheet [Horror Stories](http://www.eusprig.org/horror-stories.htm)\n",
      "\n",
      "![Excel formula](media/long-excel-formula.png \"Excel formula\")\n",
      "source: http://datascopic.net/text-troubleshooting/\n",
      "\n",
      "* The London Whale's [value-at-risk model](http://baselinescenario.com/2013/02/09/the-importance-of-excel/ \"The Importance of Excel\")\n",
      "* Synchronized swimming [overbooked at London Olympics](http://www.telegraph.co.uk/sport/olympics/8992490/London-2012-Olympics-lucky-few-to-get-100m-final-tickets-after-synchronised-swimming-was-overbooked-by-10000.html \"London 2012 Olympics: lucky few to get 100m final tickets after synchronized swimming was overbooked by 10,000\")\n",
      "* [$6 million](http://www.knoxnews.com/news/local-news/trustees-office-mistake-to-cost-taxpayers-12500) reporting error in Knox County, TN\n",
      "* Reinhart and Rogoff's famous [Excel error](http://www.washingtonpost.com/blogs/wonkblog/wp/2013/04/16/is-the-best-evidence-for-austerity-based-on-an-excel-spreadsheet-error/ \"Is the evidence for austerity based on an Excel spreadsheet error?\")"
     ]
    },
    {
     "cell_type": "markdown",
     "metadata": {
      "slideshow": {
       "slide_type": "slide"
      }
     },
     "source": [
      "# Separation of Data and Product\n",
      "![file cluster](media/files.png \"File Cluster\")"
     ]
    },
    {
     "cell_type": "markdown",
     "metadata": {
      "slideshow": {
       "slide_type": "slide"
      }
     },
     "source": [
      "![20th Century Death](media/20th-century-death.png \"20th Century Death\")\n",
      "source: http://www.informationisbeautiful.net/visualizations/20th-century-death/"
     ]
    },
    {
     "cell_type": "markdown",
     "metadata": {
      "slideshow": {
       "slide_type": "slide"
      }
     },
     "source": [
      "Programmers, different languages, bosses, users, researchers, colleagues, all talking different languages.\n",
      "\"I put it on Github!\" <> communicating\n",
      "![Big Lebowski](media/lebowski-wighnayba.gif \"Big Lebowski\")"
     ]
    },
    {
     "cell_type": "markdown",
     "metadata": {
      "slideshow": {
       "slide_type": "slide"
      }
     },
     "source": [
      "## Who Uses It?\n",
      "\n",
      "* Scientific programming community\n",
      "* Other programmers too\n",
      "* Authors\n",
      "* Teachers\n",
      "* You?"
     ]
    },
    {
     "cell_type": "markdown",
     "metadata": {
      "slideshow": {
       "slide_type": "slide"
      }
     },
     "source": [
      "# Show the Data\n",
      "\n",
      "[Warming Ocean Threatens Sea Life](http://www.scientificamerican.com/article/warming-ocean-threatens-sea-life/ \"Warming Ocean Threatens Sea Life\"), _Scientific American_\n",
      "\n",
      "![Warming Ocean Threatens Sea Life](media/scientific-american.png)\n",
      "\n",
      "[IPython notebook](https://github.com/robertodealmeida/notebooks/blob/master/scientific_american/Scientific%20American%20graph.ipynb)\n",
      "\n",
      "[NBViewer](http://nbviewer.ipython.org/github/robertodealmeida/notebooks/blob/master/scientific_american/Scientific%20American%20graph.ipynb)\n",
      "\n",
      "\n"
     ]
    },
    {
     "cell_type": "markdown",
     "metadata": {
      "slideshow": {
       "slide_type": "slide"
      }
     },
     "source": [
      "[The Ferguson Area is Even More Segregated Than You Probably Guessed](http://www.buzzfeed.com/jsvine/the-ferguson-area-is-even-more-segregated-than-you-thought#2n9wwff \"The Ferguson Area is Even More Segregated Than You Probably Guessed\"), Buzzfeed, 8/20/14\n",
      "\n",
      "![Ferguson Segregation, Buzzfeed](media/ferguson.png \"The Ferguson Area is Even More Segregated Than You Probably Guessed\")\n",
      "\n",
      "[IPython Notebook](https://github.com/BuzzFeedNews/2014-08-st-louis-county-segregation/blob/master/notebooks/segregation-analysis.ipynb)\n",
      "\n",
      "[NBViewer](http://nbviewer.ipython.org/github/BuzzFeedNews/2014-08-st-louis-county-segregation/blob/master/notebooks/segregation-analysis.ipynb)"
     ]
    },
    {
     "cell_type": "markdown",
     "metadata": {
      "slideshow": {
       "slide_type": "slide"
      }
     },
     "source": [
      "Revised Ferguson notebook to look at other areas???"
     ]
    },
    {
     "cell_type": "markdown",
     "metadata": {
      "slideshow": {
       "slide_type": "slide"
      }
     },
     "source": [
      "# Getting Started - Anaconda Distribution\n",
      "\n",
      "Linux, Max, Windows downloads: https://store.continuum.io/cshop/anaconda/"
     ]
    },
    {
     "cell_type": "markdown",
     "metadata": {
      "slideshow": {
       "slide_type": "fragment"
      }
     },
     "source": [
      "1. Install\n",
      "2. Open Anaconda Launcher\n",
      "3. Install IPython Notebook\n",
      "4. Launch IPython Notebook. This should start up the notebook server and open the notebook dashboard in your browser.\n",
      "\n",
      "![Anaconda Launcher](media/anaconda-launcher.png \"Anaconda Launcher\")\n"
     ]
    },
    {
     "cell_type": "markdown",
     "metadata": {
      "slideshow": {
       "slide_type": "slide"
      }
     },
     "source": [
      "# Getting Started - Existing Python Environment\n",
      "\n",
      "IPython supports Python 2.7 or 3.3 and newer."
     ]
    },
    {
     "cell_type": "markdown",
     "metadata": {
      "slideshow": {
       "slide_type": "fragment"
      }
     },
     "source": [
      "1. Install IPython and it's main optional dependencies (many of these are needed to run the Notebook):\n",
      "        pip install ipython[all]\n",
      "2. If you get an error installing ipython[notebook], install dependencies separately:\n",
      "        pip install jinja2\n",
      "        pip install sphinx\n",
      "        pip install pyzmq\n",
      "        pip install pygments\n",
      "        pip install tornado\n",
      "        pip install ipython\n",
      "3. [Start](http://ipython.org/ipython-doc/2/notebook/notebook.html#starting-the-notebook-server \"IPython: Starting the Notebook Server\") the notebook server. This should start up the server and open the notebook dashboard in your browser.\n",
      "        ipython notebook\n",
      "4. Alternately, to start a notebook server from a VM, make sure you're forwarding port 8888 start up the server:\n",
      "        ipython notebook --ip=0.0.0.0\n",
      "    On the host machine's browser: http://localhost:8888\n"
     ]
    }
   ],
   "metadata": {}
  }
 ]
}